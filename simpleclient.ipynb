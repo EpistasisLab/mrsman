{
 "cells": [
  {
   "cell_type": "code",
   "execution_count": null,
   "metadata": {},
   "outputs": [],
   "source": [
    "import json\n",
    "from requests.auth import HTTPBasicAuth\n",
    "import fhirclient.models.encounter as EncounterModel\n",
    "import fhirclient.models.patient as PatientModel\n",
    "import fhirclient.models.observation as ObservationModel\n",
    "from fhirclient import client\n",
    "import numpy as np\n",
    "import pandas as pd\n",
    "\n",
    "global config\n",
    "with open('config.json') as f:\n",
    "        data = json.load(f)\n",
    "        config = data['global']\n",
    "        config['baseuri'] = 'http://' + config['IP'] + ':' +  config['OPENMRS_PORT'] + '/openmrs/ws'\n",
    "settings = {\n",
    "    'app_id': 'mrsman',\n",
    "    'api_base': config['baseuri'] + '/fhir/'\n",
    "}\n",
    "smart = client.FHIRClient(settings=settings)\n",
    "smart.server.session.auth=HTTPBasicAuth(config['OPENMRS_USER'],config['OPENMRS_PASS'])\n",
    "patient = PatientModel.Patient.read('4ffc965e-3fa6-4bc8-8f67-139862b21b96', smart.server)\n",
    "print(patient.birthDate.isostring)\n",
    "print(smart.human_name(patient.name[0]))\n"
   ]
  },
  {
   "cell_type": "code",
   "execution_count": null,
   "metadata": {},
   "outputs": [],
   "source": [
    "search=EncounterModel.Encounter.where(struct={'patient': '4ffc965e-3fa6-4bc8-8f67-139862b21b96'})\n",
    "encounters =search.perform_resources(smart.server)\n",
    "for encounter in encounters:\n",
    "    print(encounter.as_json())"
   ]
  },
  {
   "cell_type": "code",
   "execution_count": null,
   "metadata": {
    "scrolled": false
   },
   "outputs": [],
   "source": [
    "enc.as_json()"
   ]
  },
  {
   "cell_type": "code",
   "execution_count": null,
   "metadata": {},
   "outputs": [],
   "source": [
    "import fhirclient.models.observation as ObservationModel"
   ]
  },
  {
   "cell_type": "code",
   "execution_count": null,
   "metadata": {},
   "outputs": [],
   "source": [
    "search=ObservationModel.Observation.where(struct={'subject': '4ffc965e-3fa6-4bc8-8f67-139862b21b96'})\n",
    "encounters =search.perform_resources(smart.server)\n",
    "for encounter in encounters:\n",
    "    print(encounter.as_json())"
   ]
  },
  {
   "cell_type": "code",
   "execution_count": null,
   "metadata": {},
   "outputs": [],
   "source": [
    "search=PatientModel.Patient.where(struct={'name': 'Gregory Perkins'})\n",
    "encounters=search.perform_resources(smart.server)\n",
    "for encounter in encounters:\n",
    "    print(encounter.as_json())"
   ]
  },
  {
   "cell_type": "code",
   "execution_count": null,
   "metadata": {},
   "outputs": [],
   "source": []
  }
 ],
 "metadata": {
  "kernelspec": {
   "display_name": "Python 3",
   "language": "python",
   "name": "python3"
  },
  "language_info": {
   "codemirror_mode": {
    "name": "ipython",
    "version": 3
   },
   "file_extension": ".py",
   "mimetype": "text/x-python",
   "name": "python",
   "nbconvert_exporter": "python",
   "pygments_lexer": "ipython3",
   "version": "3.6.7"
  }
 },
 "nbformat": 4,
 "nbformat_minor": 2
}
